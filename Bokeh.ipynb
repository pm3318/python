{
 "cells": [
  {
   "cell_type": "code",
   "execution_count": 13,
   "metadata": {},
   "outputs": [],
   "source": [
    "import pandas as pd\n",
    "from bokeh.plotting import figure, output_file, show\n",
    "AAPL = pd.read_csv(\n",
    "        \"english_category.csv\",\n",
    "        parse_dates=['InvoiceDate'])\n",
    "\n",
    "output_file(\"AAPLdatetime.html\")\n",
    "\n",
    "# create a new plot with a datetime axis type\n",
    "p = figure(width=1000, height=750, x_axis_type=\"datetime\")\n",
    "\n",
    "p.line(AAPL['InvoiceDate'], AAPL['UnitPrice'], color='Blue', alpha=0.5)\n",
    "\n",
    "show(p)"
   ]
  },
  {
   "cell_type": "code",
   "execution_count": null,
   "metadata": {
    "collapsed": true
   },
   "outputs": [],
   "source": []
  }
 ],
 "metadata": {
  "kernelspec": {
   "display_name": "Python 3",
   "language": "python",
   "name": "python3"
  },
  "language_info": {
   "codemirror_mode": {
    "name": "ipython",
    "version": 3
   },
   "file_extension": ".py",
   "mimetype": "text/x-python",
   "name": "python",
   "nbconvert_exporter": "python",
   "pygments_lexer": "ipython3",
   "version": "3.6.3"
  }
 },
 "nbformat": 4,
 "nbformat_minor": 2
}
